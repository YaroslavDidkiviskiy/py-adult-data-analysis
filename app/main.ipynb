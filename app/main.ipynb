{
 "cells": [
  {
   "cell_type": "code",
   "execution_count": null,
   "outputs": [],
   "source": [
    "import numpy as np\n",
    "import pandas as pd"
   ],
   "metadata": {
    "collapsed": false,
    "pycharm": {
     "name": "#%%\n"
    }
   }
  },
  {
   "cell_type": "markdown",
   "source": [
    "# Task 0\n",
    "Read the dataset from csv file & perform data cleaning - remove all rows, which contains `?` in some columns.\n",
    "Also check for data correctness (salary & salary $K)."
   ],
   "metadata": {
    "collapsed": false,
    "pycharm": {
     "name": "#%% md\n"
    }
   }
  },
  {
   "cell_type": "code",
   "execution_count": null,
   "outputs": [],
   "source": [
    "df = pd.read_csv('dataset.csv')\n",
    "\n",
    "df_clean = df.replace('?', pd.NA).dropna()\n",
    "\n",
    "df_clean['salary'] = pd.to_numeric(df_clean['salary'], errors='coerce')\n",
    "df_clean['salary $K'] = pd.to_numeric(df_clean['salary $K'], errors='coerce')\n",
    "\n",
    "df_clean = df_clean.dropna(subset=['salary', 'salary $K'])\n",
    "\n",
    "salary_mismatch = df_clean[~(df_clean['salary'] / 1000 == df_clean['salary $K'])]\n",
    "if not salary_mismatch.empty:\n",
    "    print(\"⚠️ Увага: знайдено невідповідності в зарплатах!\")\n",
    "    print(salary_mismatch[['salary', 'salary $K']])\n",
    "else:\n",
    "    print(\"✅ Зарплати перевірено: salary $K = salary / 1000\")\n",
    "\n",
    "print(\"\\n🔹 Початковий розмір даних:\", df.shape)\n",
    "print(\"🔹 Очищений розмір даних:\", df_clean.shape)\n",
    "print(\"\\nПерші 5 рядків після очищення:\")\n",
    "display(df_clean.head())"
   ],
   "metadata": {
    "collapsed": false,
    "pycharm": {
     "name": "#%%\n"
    }
   }
  },
  {
   "cell_type": "markdown",
   "source": [
    "# Task 1\n",
    "Print the count of men and women in the dataset."
   ],
   "metadata": {
    "collapsed": false,
    "pycharm": {
     "name": "#%% md\n"
    }
   }
  },
  {
   "cell_type": "code",
   "source": [
    "gender_counts = df_clean['sex'].value_counts()\n",
    "print(gender_counts)"
   ],
   "metadata": {
    "collapsed": false,
    "pycharm": {
     "name": "#%%\n"
    },
    "jupyter": {
     "is_executing": true
    }
   },
   "outputs": [],
   "execution_count": null
  },
  {
   "cell_type": "markdown",
   "source": [
    "# Task 2\n",
    "Find the average age of men in dataset"
   ],
   "metadata": {
    "collapsed": false,
    "pycharm": {
     "name": "#%% md\n"
    }
   }
  },
  {
   "cell_type": "code",
   "execution_count": null,
   "outputs": [],
   "source": "average_age_men = df_clean[df_clean['sex'] == 'Male']['age'].mean()",
   "metadata": {
    "collapsed": false,
    "pycharm": {
     "name": "#%%\n"
    }
   }
  },
  {
   "cell_type": "markdown",
   "source": [
    "# Task 3\n",
    "Get the percentage of people from Poland (native-country)"
   ],
   "metadata": {
    "collapsed": false,
    "pycharm": {
     "name": "#%% md\n"
    }
   }
  },
  {
   "cell_type": "code",
   "execution_count": null,
   "outputs": [],
   "source": [
    "total_people = len(df_clean)\n",
    "polish_count = len(df_clean[df_clean['native-country'] == 'Poland'])\n",
    "polish_percentage = (polish_count / total_people) * 100"
   ],
   "metadata": {
    "collapsed": false,
    "pycharm": {
     "name": "#%%\n"
    }
   }
  },
  {
   "cell_type": "markdown",
   "source": [
    "# Task 4\n",
    "Get the mean and standard deviation of the age for people who earn > 50K per year. After this, get it for those who earn <= 50K."
   ],
   "metadata": {
    "collapsed": false,
    "pycharm": {
     "name": "#%% md\n"
    }
   }
  },
  {
   "cell_type": "code",
   "source": [
    "df_clean['salary'] = pd.to_numeric(df_clean['salary'])\n",
    "\n",
    "# Define income groups\n",
    "high_income = df_clean[df_clean['salary'] > 50000]\n",
    "low_income = df_clean[df_clean['salary'] <= 50000]\n",
    "\n",
    "# Calculate statistics for high income group\n",
    "high_income_age_mean = high_income['age'].mean()\n",
    "high_income_age_std = high_income['age'].std()\n",
    "\n",
    "# Calculate statistics for low income group\n",
    "low_income_age_mean = low_income['age'].mean()\n",
    "low_income_age_std = low_income['age'].std()\n",
    "\n",
    "results = pd.DataFrame({\n",
    "    'Income Group': ['>50K', '≤50K'],\n",
    "    'Mean Age': [high_income_age_mean, low_income_age_mean],\n",
    "    'Std Dev Age': [high_income_age_std, low_income_age_std],\n",
    "    'Count': [len(high_income), len(low_income)]\n",
    "})"
   ],
   "metadata": {
    "collapsed": false,
    "pycharm": {
     "name": "#%%\n"
    },
    "ExecuteTime": {
     "end_time": "2025-08-08T18:46:35.314622Z",
     "start_time": "2025-08-08T18:46:35.152749Z"
    }
   },
   "outputs": [
    {
     "ename": "NameError",
     "evalue": "name 'pd' is not defined",
     "output_type": "error",
     "traceback": [
      "\u001B[31m---------------------------------------------------------------------------\u001B[39m",
      "\u001B[31mNameError\u001B[39m                                 Traceback (most recent call last)",
      "\u001B[36mCell\u001B[39m\u001B[36m \u001B[39m\u001B[32mIn[1]\u001B[39m\u001B[32m, line 1\u001B[39m\n\u001B[32m----> \u001B[39m\u001B[32m1\u001B[39m df_clean[\u001B[33m'\u001B[39m\u001B[33msalary\u001B[39m\u001B[33m'\u001B[39m] = \u001B[43mpd\u001B[49m.to_numeric(df_clean[\u001B[33m'\u001B[39m\u001B[33msalary\u001B[39m\u001B[33m'\u001B[39m])\n\u001B[32m      3\u001B[39m \u001B[38;5;66;03m# Define income groups\u001B[39;00m\n\u001B[32m      4\u001B[39m high_income = df_clean[df_clean[\u001B[33m'\u001B[39m\u001B[33msalary\u001B[39m\u001B[33m'\u001B[39m] > \u001B[32m50000\u001B[39m]\n",
      "\u001B[31mNameError\u001B[39m: name 'pd' is not defined"
     ]
    }
   ],
   "execution_count": 1
  },
  {
   "cell_type": "markdown",
   "source": [
    "# Task 5\n",
    "Check, if there are some people without higher education (education: Bachelors, Prof-school, Assoc-acdm, Assoc-voc, Masters, Doctorate), but with > 50K salary"
   ],
   "metadata": {
    "collapsed": false,
    "pycharm": {
     "name": "#%% md\n"
    }
   }
  },
  {
   "cell_type": "code",
   "execution_count": 3,
   "outputs": [],
   "source": [
    "higher_education = [\n",
    "    'Bachelors', 'Prof-school', 'Assoc-acdm',\n",
    "    'Assoc-voc', 'Masters', 'Doctorate'\n",
    "]\n",
    "\n",
    "# Filter for people without higher education but earning >50K\n",
    "high_earners_no_he = df_clean[\n",
    "    (~df_clean['education'].isin(higher_education)) &\n",
    "    (df_clean['salary'] > 50000)\n",
    "]\n",
    "\n",
    "# Display results\n",
    "print(f\"Found {len(high_earners_no_he)} individuals without higher education earning >50K\")\n",
    "print(\"\\nBreakdown of their education levels:\")\n",
    "print(high_earners_no_he['education'].value_counts())"
   ],
   "metadata": {
    "collapsed": false,
    "pycharm": {
     "name": "#%%\n"
    }
   }
  },
  {
   "cell_type": "markdown",
   "source": [
    "# Task 6\n",
    "Get the statistics of age for each type of education. Use `groupby` and `describe` for this."
   ],
   "metadata": {
    "collapsed": false,
    "pycharm": {
     "name": "#%% md\n"
    }
   }
  },
  {
   "cell_type": "code",
   "execution_count": null,
   "outputs": [],
   "source": [
    "age_stats_by_education = df_clean.groupby('education')['age'].describe()\n",
    "\n",
    "# Format the output for better readability\n",
    "age_stats_by_education = age_stats_by_education.rename(columns={\n",
    "    'count': 'Count',\n",
    "    'mean': 'Mean Age',\n",
    "    'std': 'Std Dev',\n",
    "    'min': 'Min Age',\n",
    "    '25%': '25th Percentile',\n",
    "    '50%': 'Median',\n",
    "    '75%': '75th Percentile',\n",
    "    'max': 'Max Age'\n",
    "})\n",
    "\n",
    "# Display the full statistics\n",
    "print(\"Complete Age Statistics by Education Level:\")\n",
    "display(age_stats_by_education)"
   ],
   "metadata": {
    "collapsed": false,
    "pycharm": {
     "name": "#%%\n"
    }
   }
  },
  {
   "cell_type": "markdown",
   "source": [
    "# Task 7\n",
    "Compare the married and non-married men salaries. Who earns more? (>50K or <=50K)\n",
    "Married men are those, whom `marital-status` starts with \"Married\". Others are not."
   ],
   "metadata": {
    "collapsed": false,
    "pycharm": {
     "name": "#%% md\n"
    }
   }
  },
  {
   "cell_type": "code",
   "source": [
    "men_data = df_clean[df_clean['sex'] == 'Male']\n",
    "\n",
    "# Create marital status groups\n",
    "married_men = men_data[men_data['marital-status'].str.startswith('Married')]\n",
    "non_married_men = men_data[~men_data['marital-status'].str.startswith('Married')]\n",
    "\n",
    "married_high = len(married_men[married_men['salary'] > 50000]) / len(married_men) * 100\n",
    "non_married_high = len(non_married_men[non_married_men['salary'] > 50000]) / len(non_married_men) * 100\n",
    "\n",
    "comparison = pd.DataFrame({\n",
    "    'Group': ['Married Men', 'Non-Married Men'],\n",
    "    'Total Count': [len(married_men), len(non_married_men)],\n",
    "    'High Earners (>50K)': [len(married_men[married_men['salary'] > 50000]),\n",
    "                           len(non_married_men[non_married_men['salary'] > 50000])],\n",
    "    '% High Earners': [married_high, non_married_high]\n",
    "})\n",
    "\n",
    "# Format the output\n",
    "comparison['% High Earners'] = comparison['% High Earners'].round(1)\n",
    "comparison['High Earner Proportion'] = comparison['High Earners (>50K)'].astype(str) + ' (' + comparison['% High Earners'].astype(str) + '%)'\n",
    "\n",
    "display(comparison[['Group', 'Total Count', 'High Earner Proportion']])"
   ],
   "metadata": {
    "collapsed": false,
    "pycharm": {
     "name": "#%%\n"
    },
    "ExecuteTime": {
     "end_time": "2025-08-08T18:52:42.384454Z",
     "start_time": "2025-08-08T18:52:42.352978Z"
    }
   },
   "outputs": [
    {
     "ename": "NameError",
     "evalue": "name 'pd' is not defined",
     "output_type": "error",
     "traceback": [
      "\u001B[31m---------------------------------------------------------------------------\u001B[39m",
      "\u001B[31mNameError\u001B[39m                                 Traceback (most recent call last)",
      "\u001B[36mCell\u001B[39m\u001B[36m \u001B[39m\u001B[32mIn[2]\u001B[39m\u001B[32m, line 1\u001B[39m\n\u001B[32m----> \u001B[39m\u001B[32m1\u001B[39m comparison = \u001B[43mpd\u001B[49m.DataFrame({\n\u001B[32m      2\u001B[39m     \u001B[33m'\u001B[39m\u001B[33mGroup\u001B[39m\u001B[33m'\u001B[39m: [\u001B[33m'\u001B[39m\u001B[33mMarried Men\u001B[39m\u001B[33m'\u001B[39m, \u001B[33m'\u001B[39m\u001B[33mNon-Married Men\u001B[39m\u001B[33m'\u001B[39m],\n\u001B[32m      3\u001B[39m     \u001B[33m'\u001B[39m\u001B[33mTotal Count\u001B[39m\u001B[33m'\u001B[39m: [\u001B[38;5;28mlen\u001B[39m(married_men), \u001B[38;5;28mlen\u001B[39m(non_married_men)],\n\u001B[32m      4\u001B[39m     \u001B[33m'\u001B[39m\u001B[33mHigh Earners (>50K)\u001B[39m\u001B[33m'\u001B[39m: [\u001B[38;5;28mlen\u001B[39m(married_men[married_men[\u001B[33m'\u001B[39m\u001B[33msalary\u001B[39m\u001B[33m'\u001B[39m] > \u001B[32m50000\u001B[39m]),\n\u001B[32m      5\u001B[39m                            \u001B[38;5;28mlen\u001B[39m(non_married_men[non_married_men[\u001B[33m'\u001B[39m\u001B[33msalary\u001B[39m\u001B[33m'\u001B[39m] > \u001B[32m50000\u001B[39m])],\n\u001B[32m      6\u001B[39m     \u001B[33m'\u001B[39m\u001B[33m%\u001B[39m\u001B[33m High Earners\u001B[39m\u001B[33m'\u001B[39m: [married_high, non_married_high]\n\u001B[32m      7\u001B[39m })\n\u001B[32m      9\u001B[39m \u001B[38;5;66;03m# Format the output\u001B[39;00m\n\u001B[32m     10\u001B[39m comparison[\u001B[33m'\u001B[39m\u001B[33m%\u001B[39m\u001B[33m High Earners\u001B[39m\u001B[33m'\u001B[39m] = comparison[\u001B[33m'\u001B[39m\u001B[33m%\u001B[39m\u001B[33m High Earners\u001B[39m\u001B[33m'\u001B[39m].round(\u001B[32m1\u001B[39m)\n",
      "\u001B[31mNameError\u001B[39m: name 'pd' is not defined"
     ]
    }
   ],
   "execution_count": 2
  },
  {
   "cell_type": "markdown",
   "source": [
    "# Task 8\n",
    "Get the max hours per week some person works. How many people works the same amount of hours per week?"
   ],
   "metadata": {
    "collapsed": false,
    "pycharm": {
     "name": "#%% md\n"
    }
   }
  },
  {
   "cell_type": "code",
   "execution_count": 6,
   "outputs": [],
   "source": [
    "max_hours = df_clean['hours-per-week'].max()\n",
    "\n",
    "# Count how many people work this maximum amount\n",
    "max_hours_count = len(df_clean[df_clean['hours-per-week'] == max_hours])\n",
    "\n",
    "# Get additional statistics about these individuals\n",
    "max_hours_workers = df_clean[df_clean['hours-per-week'] == max_hours]\n",
    "occupation_stats = max_hours_workers['occupation'].value_counts()\n",
    "income_stats = max_hours_workers['salary'].apply(lambda x: '>50K' if x > 50000 else '<=50K').value_counts()\n",
    "\n",
    "# Display results\n",
    "print(f\"Maximum hours worked per week: {max_hours} hours\")\n",
    "print(f\"Number of people working {max_hours} hours/week: {max_hours_count}\")\n",
    "print(f\"\\nThis represents {max_hours_count/len(df_clean)*100:.2f}% of the dataset\")"
   ],
   "metadata": {
    "collapsed": false,
    "pycharm": {
     "name": "#%%\n"
    }
   }
  },
  {
   "cell_type": "markdown",
   "source": [
    "# Task 9\n",
    "Analyze the correlation between data in dataset. Understand connected fields in it and print highlight thier connection."
   ],
   "metadata": {
    "collapsed": false,
    "pycharm": {
     "name": "#%% md\n"
    }
   }
  },
  {
   "cell_type": "code",
   "execution_count": 7,
   "outputs": [],
   "source": [
    "import seaborn as sns\n",
    "import matplotlib.pyplot as plt\n",
    "\n",
    "# Prepare numeric data for correlation analysis\n",
    "df_numeric = df_clean.copy()\n",
    "categorical_cols = ['workclass', 'education', 'marital-status', 'occupation',\n",
    "                   'relationship', 'race', 'sex', 'native-country']\n",
    "\n",
    "# Convert categorical columns to numeric codes\n",
    "for col in categorical_cols:\n",
    "    if col in df_numeric.columns:\n",
    "        df_numeric[col] = df_numeric[col].astype('category').cat.codes\n",
    "\n",
    "plt.figure(figsize=(10, 8))\n",
    "corr_matrix = df_numeric.corr()\n",
    "sns.heatmap(corr_matrix[(corr_matrix > 0.3) | (corr_matrix < -0.3)],\n",
    "            annot=True, fmt=\".1f\", cmap='coolwarm', center=0)\n",
    "plt.title(\"Significant Correlations (|r| > 0.3)\")\n",
    "plt.show()\n",
    "\n",
    "corr_pairs = corr_matrix.unstack().sort_values(key=abs, ascending=False)\n",
    "for pair in corr_pairs[5:15:2].index:\n",
    "    if pair[0] != pair[1]:\n",
    "        print(f\"{pair[0]} ↔ {pair[1]}: {corr_matrix.loc[pair[0], pair[1]]:.2f}\")"
   ],
   "metadata": {
    "collapsed": false,
    "pycharm": {
     "name": "#%%\n"
    }
   }
  }
 ],
 "metadata": {
  "kernelspec": {
   "display_name": "Python 3",
   "language": "python",
   "name": "python3"
  },
  "language_info": {
   "codemirror_mode": {
    "name": "ipython",
    "version": 2
   },
   "file_extension": ".py",
   "mimetype": "text/x-python",
   "name": "python",
   "nbconvert_exporter": "python",
   "pygments_lexer": "ipython2",
   "version": "2.7.6"
  }
 },
 "nbformat": 4,
 "nbformat_minor": 0
}
