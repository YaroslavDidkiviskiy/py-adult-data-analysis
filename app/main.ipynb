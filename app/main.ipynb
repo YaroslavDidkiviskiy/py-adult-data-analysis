{
 "cells": [
  {
   "cell_type": "code",
   "execution_count": null,
   "outputs": [],
   "source": [
    "import numpy as np\n",
    "import pandas as pd"
   ],
   "metadata": {
    "collapsed": false,
    "pycharm": {
     "name": "#%%\n"
    }
   }
  },
  {
   "cell_type": "markdown",
   "source": [
    "# Task 0\n",
    "Read the dataset from csv file & perform data cleaning - remove all rows, which contains `?` in some columns.\n",
    "Also check for data correctness (salary & salary $K)."
   ],
   "metadata": {
    "collapsed": false,
    "pycharm": {
     "name": "#%% md\n"
    }
   }
  },
  {
   "cell_type": "code",
   "execution_count": null,
   "outputs": [],
   "source": [
    "# Read and clean data\n",
    "df = pd.read_csv('../data/adult.csv', na_values='?')\n",
    "df_clean = df.dropna().copy()\n",
    "\n",
    "# Convert salary columns to numeric\n",
    "df_clean['salary'] = pd.to_numeric(df_clean['salary'])\n",
    "df_clean['salary $K'] = pd.to_numeric(df_clean['salary $K'])\n",
    "\n",
    "# Verify salary columns\n",
    "salary_check = (df_clean['salary'] / 1000 == df_clean['salary $K']).all()\n",
    "print(f\"Salary columns consistent: {salary_check}\")"
   ],
   "metadata": {
    "collapsed": false,
    "pycharm": {
     "name": "#%%\n"
    }
   }
  },
  {
   "cell_type": "markdown",
   "source": [
    "# Task 1\n",
    "Print the count of men and women in the dataset."
   ],
   "metadata": {
    "collapsed": false,
    "pycharm": {
     "name": "#%% md\n"
    }
   }
  },
  {
   "cell_type": "code",
   "source": [
    "gender_counts = df_clean['sex'].value_counts()\n",
    "print(gender_counts)"
   ],
   "metadata": {
    "collapsed": false,
    "pycharm": {
     "name": "#%%\n"
    },
    "jupyter": {
     "is_executing": true
    }
   },
   "outputs": [],
   "execution_count": null
  },
  {
   "cell_type": "markdown",
   "source": [
    "# Task 2\n",
    "Find the average age of men in dataset"
   ],
   "metadata": {
    "collapsed": false,
    "pycharm": {
     "name": "#%% md\n"
    }
   }
  },
  {
   "cell_type": "code",
   "execution_count": null,
   "outputs": [],
   "source": [
    "avg_age_men = df_clean.loc[df_clean['sex'] == 'Male', 'age'].mean()\n",
    "print(f\"Average age of men: {avg_age_men:.1f}\")"
   ],
   "metadata": {
    "collapsed": false,
    "pycharm": {
     "name": "#%%\n"
    }
   }
  },
  {
   "cell_type": "markdown",
   "source": [
    "# Task 3\n",
    "Get the percentage of people from Poland (native-country)"
   ],
   "metadata": {
    "collapsed": false,
    "pycharm": {
     "name": "#%% md\n"
    }
   }
  },
  {
   "cell_type": "code",
   "execution_count": null,
   "outputs": [],
   "source": [
    "poland_pct = (df_clean['native-country'] == 'Poland').mean() * 100\n",
    "print(f\"Percentage from Germany: {german_pct:.2f}%\")"
   ],
   "metadata": {
    "collapsed": false,
    "pycharm": {
     "name": "#%%\n"
    }
   }
  },
  {
   "cell_type": "markdown",
   "source": [
    "# Task 4\n",
    "Get the mean and standard deviation of the age for people who earn > 50K per year. After this, get it for those who earn <= 50K."
   ],
   "metadata": {
    "collapsed": false,
    "pycharm": {
     "name": "#%% md\n"
    }
   }
  },
  {
   "cell_type": "code",
   "source": [
    "age_stats = df_clean.groupby(df_clean['salary'] > 50000)['age'].agg(['mean', 'std'])\n",
    "print(age_stats)"
   ],
   "metadata": {
    "collapsed": false,
    "pycharm": {
     "name": "#%%\n"
    },
    "ExecuteTime": {
     "end_time": "2025-08-08T18:46:35.314622Z",
     "start_time": "2025-08-08T18:46:35.152749Z"
    }
   },
   "outputs": [
    {
     "ename": "NameError",
     "evalue": "name 'pd' is not defined",
     "output_type": "error",
     "traceback": [
      "\u001B[31m---------------------------------------------------------------------------\u001B[39m",
      "\u001B[31mNameError\u001B[39m                                 Traceback (most recent call last)",
      "\u001B[36mCell\u001B[39m\u001B[36m \u001B[39m\u001B[32mIn[1]\u001B[39m\u001B[32m, line 1\u001B[39m\n\u001B[32m----> \u001B[39m\u001B[32m1\u001B[39m df_clean[\u001B[33m'\u001B[39m\u001B[33msalary\u001B[39m\u001B[33m'\u001B[39m] = \u001B[43mpd\u001B[49m.to_numeric(df_clean[\u001B[33m'\u001B[39m\u001B[33msalary\u001B[39m\u001B[33m'\u001B[39m])\n\u001B[32m      3\u001B[39m \u001B[38;5;66;03m# Define income groups\u001B[39;00m\n\u001B[32m      4\u001B[39m high_income = df_clean[df_clean[\u001B[33m'\u001B[39m\u001B[33msalary\u001B[39m\u001B[33m'\u001B[39m] > \u001B[32m50000\u001B[39m]\n",
      "\u001B[31mNameError\u001B[39m: name 'pd' is not defined"
     ]
    }
   ],
   "execution_count": 1
  },
  {
   "cell_type": "markdown",
   "source": [
    "# Task 5\n",
    "Check, if there are some people without higher education (education: Bachelors, Prof-school, Assoc-acdm, Assoc-voc, Masters, Doctorate), but with > 50K salary"
   ],
   "metadata": {
    "collapsed": false,
    "pycharm": {
     "name": "#%% md\n"
    }
   }
  },
  {
   "cell_type": "code",
   "execution_count": 3,
   "outputs": [],
   "source": [
    "higher_ed = ['Bachelors', 'Prof-school', 'Assoc-acdm', 'Assoc-voc', 'Masters', 'Doctorate']\n",
    "mask = (~df_clean['education'].isin(higher_ed)) & (df_clean['salary'] > 50000)\n",
    "count = mask.sum()\n",
    "print(f\"High earners without higher education: {count}\")"
   ],
   "metadata": {
    "collapsed": false,
    "pycharm": {
     "name": "#%%\n"
    }
   }
  },
  {
   "cell_type": "markdown",
   "source": [
    "# Task 6\n",
    "Get the statistics of age for each type of education. Use `groupby` and `describe` for this."
   ],
   "metadata": {
    "collapsed": false,
    "pycharm": {
     "name": "#%% md\n"
    }
   }
  },
  {
   "cell_type": "code",
   "execution_count": null,
   "outputs": [],
   "source": [
    "age_stats = df_clean.groupby('education')['age'].describe()\n",
    "print(age_stats)"
   ],
   "metadata": {
    "collapsed": false,
    "pycharm": {
     "name": "#%%\n"
    }
   }
  },
  {
   "cell_type": "markdown",
   "source": [
    "# Task 7\n",
    "Compare the married and non-married men salaries. Who earns more? (>50K or <=50K)\n",
    "Married men are those, whom `marital-status` starts with \"Married\". Others are not."
   ],
   "metadata": {
    "collapsed": false,
    "pycharm": {
     "name": "#%% md\n"
    }
   }
  },
  {
   "cell_type": "code",
   "source": [
    "men = df_clean[df_clean['sex'] == 'Male']\n",
    "result = men.groupby(men['marital-status'].str.startswith('Married'))['salary'].agg(\n",
    "    total_count='count',\n",
    "    high_earners=lambda x: (x > 50000).sum(),\n",
    "    pct_high_earners=lambda x: (x > 50000).mean() * 100\n",
    ")\n",
    "print(result)"
   ],
   "metadata": {
    "collapsed": false,
    "pycharm": {
     "name": "#%%\n"
    },
    "ExecuteTime": {
     "end_time": "2025-08-08T18:52:42.384454Z",
     "start_time": "2025-08-08T18:52:42.352978Z"
    }
   },
   "outputs": [
    {
     "ename": "NameError",
     "evalue": "name 'pd' is not defined",
     "output_type": "error",
     "traceback": [
      "\u001B[31m---------------------------------------------------------------------------\u001B[39m",
      "\u001B[31mNameError\u001B[39m                                 Traceback (most recent call last)",
      "\u001B[36mCell\u001B[39m\u001B[36m \u001B[39m\u001B[32mIn[2]\u001B[39m\u001B[32m, line 1\u001B[39m\n\u001B[32m----> \u001B[39m\u001B[32m1\u001B[39m comparison = \u001B[43mpd\u001B[49m.DataFrame({\n\u001B[32m      2\u001B[39m     \u001B[33m'\u001B[39m\u001B[33mGroup\u001B[39m\u001B[33m'\u001B[39m: [\u001B[33m'\u001B[39m\u001B[33mMarried Men\u001B[39m\u001B[33m'\u001B[39m, \u001B[33m'\u001B[39m\u001B[33mNon-Married Men\u001B[39m\u001B[33m'\u001B[39m],\n\u001B[32m      3\u001B[39m     \u001B[33m'\u001B[39m\u001B[33mTotal Count\u001B[39m\u001B[33m'\u001B[39m: [\u001B[38;5;28mlen\u001B[39m(married_men), \u001B[38;5;28mlen\u001B[39m(non_married_men)],\n\u001B[32m      4\u001B[39m     \u001B[33m'\u001B[39m\u001B[33mHigh Earners (>50K)\u001B[39m\u001B[33m'\u001B[39m: [\u001B[38;5;28mlen\u001B[39m(married_men[married_men[\u001B[33m'\u001B[39m\u001B[33msalary\u001B[39m\u001B[33m'\u001B[39m] > \u001B[32m50000\u001B[39m]),\n\u001B[32m      5\u001B[39m                            \u001B[38;5;28mlen\u001B[39m(non_married_men[non_married_men[\u001B[33m'\u001B[39m\u001B[33msalary\u001B[39m\u001B[33m'\u001B[39m] > \u001B[32m50000\u001B[39m])],\n\u001B[32m      6\u001B[39m     \u001B[33m'\u001B[39m\u001B[33m%\u001B[39m\u001B[33m High Earners\u001B[39m\u001B[33m'\u001B[39m: [married_high, non_married_high]\n\u001B[32m      7\u001B[39m })\n\u001B[32m      9\u001B[39m \u001B[38;5;66;03m# Format the output\u001B[39;00m\n\u001B[32m     10\u001B[39m comparison[\u001B[33m'\u001B[39m\u001B[33m%\u001B[39m\u001B[33m High Earners\u001B[39m\u001B[33m'\u001B[39m] = comparison[\u001B[33m'\u001B[39m\u001B[33m%\u001B[39m\u001B[33m High Earners\u001B[39m\u001B[33m'\u001B[39m].round(\u001B[32m1\u001B[39m)\n",
      "\u001B[31mNameError\u001B[39m: name 'pd' is not defined"
     ]
    }
   ],
   "execution_count": 2
  },
  {
   "cell_type": "markdown",
   "source": [
    "# Task 8\n",
    "Get the max hours per week some person works. How many people works the same amount of hours per week?"
   ],
   "metadata": {
    "collapsed": false,
    "pycharm": {
     "name": "#%% md\n"
    }
   }
  },
  {
   "cell_type": "code",
   "execution_count": 6,
   "outputs": [],
   "source": [
    "max_hours = df_clean['hours-per-week'].max()\n",
    "count = (df_clean['hours-per-week'] == max_hours).sum()\n",
    "print(f\"Max hours/week: {max_hours} ({count} people work this amount)\")"
   ],
   "metadata": {
    "collapsed": false,
    "pycharm": {
     "name": "#%%\n"
    }
   }
  },
  {
   "cell_type": "markdown",
   "source": [
    "# Task 9\n",
    "Analyze the correlation between data in dataset. Understand connected fields in it and print highlight thier connection."
   ],
   "metadata": {
    "collapsed": false,
    "pycharm": {
     "name": "#%% md\n"
    }
   }
  },
  {
   "cell_type": "code",
   "execution_count": 7,
   "outputs": [],
   "source": [
    "import seaborn as sns\n",
    "import matplotlib.pyplot as plt\n",
    "\n",
    "# Convert categorical columns\n",
    "df_numeric = df_clean.copy()\n",
    "cat_cols = df_numeric.select_dtypes(include=['object']).columns\n",
    "df_numeric[cat_cols] = df_numeric[cat_cols].apply(lambda x: x.astype('category').cat.codes)\n",
    "\n",
    "# Correlation matrix\n",
    "corr = df_numeric.corr()\n",
    "plt.figure(figsize=(12, 10))\n",
    "sns.heatmap(corr[abs(corr) > 0.3], annot=True, fmt=\".2f\", cmap='coolwarm')\n",
    "plt.show()\n",
    "\n",
    "# Top correlations\n",
    "corr_pairs = corr.mask(np.triu(np.ones_like(corr, dtype=bool))).stack()\n",
    "top_corrs = corr_pairs.abs().sort_values(ascending=False).head(10)\n",
    "print(\"Top Correlations:\")\n",
    "print(top_corrs)"
   ],
   "metadata": {
    "collapsed": false,
    "pycharm": {
     "name": "#%%\n"
    }
   }
  }
 ],
 "metadata": {
  "kernelspec": {
   "display_name": "Python 3",
   "language": "python",
   "name": "python3"
  },
  "language_info": {
   "codemirror_mode": {
    "name": "ipython",
    "version": 2
   },
   "file_extension": ".py",
   "mimetype": "text/x-python",
   "name": "python",
   "nbconvert_exporter": "python",
   "pygments_lexer": "ipython2",
   "version": "2.7.6"
  }
 },
 "nbformat": 4,
 "nbformat_minor": 0
}
